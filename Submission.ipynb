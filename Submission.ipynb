{
 "cells": [
  {
   "cell_type": "code",
   "execution_count": 1,
   "metadata": {},
   "outputs": [
    {
     "name": "stderr",
     "output_type": "stream",
     "text": [
      "UsageError: Line magic function `%` not found.\n"
     ]
    }
   ],
   "source": [
    "# Take care Seif to Ezzeldin in Path\n",
    "import pandas as pd\n",
    "import numpy as np\n",
    "import random as rnd\n",
    "import matplotlib.pyplot as plt\n",
    "% matplotlib inline\n",
    "import seaborn as sns\n",
    "sns.set()"
   ]
  },
  {
   "cell_type": "code",
   "execution_count": 2,
   "metadata": {},
   "outputs": [],
   "source": [
    "from sklearn.neighbors import KNeighborsClassifier\n",
    "from sklearn.tree import DecisionTreeClassifier\n",
    "from sklearn.ensemble import RandomForestClassifier\n",
    "from sklearn.naive_bayes import GaussianNB\n",
    "from sklearn.svm import SVC\n",
    "from sklearn.model_selection import KFold\n",
    "from sklearn.model_selection import cross_val_score\n",
    "k_fold = KFold(n_splits = 10 , shuffle = True , random_state =0)"
   ]
  },
  {
   "cell_type": "code",
   "execution_count": 3,
   "metadata": {},
   "outputs": [],
   "source": [
    "train = pd.read_csv(r\"C:\\Users\\Seif\\Desktop\\Titanic Competition\\train.csv\")\n",
    "test = pd.read_csv(r\"C:\\Users\\Seif\\Desktop\\Titanic Competition\\test.csv\")"
   ]
  },
  {
   "cell_type": "code",
   "execution_count": 4,
   "metadata": {},
   "outputs": [],
   "source": [
    "train[\"Title\"] = train[\"Name\"].str.extract('([A-Za-z]+)\\.',expand=False)\n",
    "title_mapping = {\"Mr\": 0 , \"Miss\": 1 , \"Mrs\": 2 , \"Master\": 3 , \"Dr\" : 3 , \"Rev\": 3 , \"Mlle\": 3 , \"Col\": 3 ,\"Major\": 3 ,\n",
    "\"Countess\": 3, \"Ms\": 3 , \"Lady\": 3 , \"Jonkheer\": 3 , \"Don\": 3 , \"Mme\": 3 , \"Capt\": 3 , \"Sir\": 3 , \"Dona\": 3 }\n",
    "train['Title'] = train['Title'].map(title_mapping)\n",
    "train.drop('Name',axis =1, inplace =True) \n",
    "sex_mapping ={\"male\": 0 , \"female\": 1}\n",
    "train['Sex'] = train['Sex'].map(sex_mapping)\n",
    "train[\"Age\"].fillna(train.groupby(\"Title\")[\"Age\"].transform(\"median\"), inplace = True)\n",
    "train.loc[train[\"Age\"] <= 16 , \"Age\"] = 0\n",
    "train.loc[(train[\"Age\"]) > 16 & (train[\"Age\"] <= 26)  , \"Age\"] = 1\n",
    "train.loc[(train[\"Age\"]) > 26 & (train[\"Age\"] <= 36) , \"Age\"] = 2\n",
    "train.loc[(train[\"Age\"]) > 36 & (train[\"Age\"] <= 62) , \"Age\"] = 3\n",
    "train.loc[train[\"Age\"] > 62 , \"Age\"] = 4\n",
    "train[\"Embarked\"] = train[\"Embarked\"].fillna(\"S\")\n",
    "train.loc[train[\"Embarked\"] == \"S\" , \"Embarked\"] = 0\n",
    "train.loc[train[\"Embarked\"] == \"C\" , \"Embarked\"] = 1\n",
    "train.loc[train[\"Embarked\"] == \"Q\",  \"Embarked\"] = 2\n",
    "train[\"Fare\"].fillna(train.groupby(\"Pclass\")[\"Fare\"].transform(\"median\"), inplace = True)\n",
    "train.loc[train[\"Fare\"] <= 17 , \"Fare\"] = 0\n",
    "train.loc[(train[\"Fare\"] > 17) & (train[\"Fare\"] <= 30) , \"Fare\"] = 1\n",
    "train.loc[(train[\"Fare\"] > 30) & (train[\"Fare\"] <= 100) , \"Fare\"] = 2\n",
    "train.loc[train[\"Fare\"] > 100 , \"Fare\"] = 3\n",
    "train[\"Cabin\"] = train[\"Cabin\"].str[:1]\n",
    "cabin_mapping = {\"A\" : 0 , \"B\" : 0.4 , \"C\" : 0.8 , \"D\" : 1.2 , \"E\" : 1.6 , \"F\" : 2 , \"G\" : 2.4 , \"T\" : 2.8 }\n",
    "train[\"Cabin\"] = train[\"Cabin\"].map(cabin_mapping)\n",
    "train[\"Cabin\"].fillna(train.groupby(\"Pclass\")[\"Cabin\"].transform(\"median\") , inplace = True)\n",
    "train[\"FamilySize\"] = train[\"SibSp\"] + train[\"Parch\"] + 1\n",
    "family_mapping = { 1 : 0 , 2 : 0.4 , 3 : 0.8 , 4 : 1.2 , 5 : 1.6 , 6 : 2 , 7 : 2.4 , 8 : 2.8 , 9 : 3.2 , 10 : 3.6 , 11 : 4 }\n",
    "train[\"FamilySize\"] = train[\"FamilySize\"].map(family_mapping)\n",
    "train = train.drop( [\"Ticket\" , \"SibSp\" , \"Parch\"] , axis = 1 )\n",
    "train = train.drop(['PassengerId'] , axis = 1 )\n",
    "train_data = train.drop('Survived', axis = 1)\n",
    "target = train['Survived']"
   ]
  },
  {
   "cell_type": "code",
   "execution_count": 5,
   "metadata": {},
   "outputs": [],
   "source": [
    "test[\"Title\"] = test[\"Name\"].str.extract('([A-Za-z]+)\\.',expand=False)\n",
    "title_mapping = {\"Mr\": 0 , \"Miss\": 1 , \"Mrs\": 2 , \"Master\": 3 , \"Dr\" : 3 , \"Rev\": 3 , \"Mlle\": 3 , \"Col\": 3 ,\"Major\": 3 ,\n",
    "\"Countess\": 3, \"Ms\": 3 , \"Lady\": 3 , \"Jonkheer\": 3 , \"Don\": 3 , \"Mme\": 3 , \"Capt\": 3 , \"Sir\": 3 , \"Dona\": 3 }\n",
    "test['Title'] = test['Title'].map(title_mapping)\n",
    "test.drop('Name',axis =1, inplace =True)       "
   ]
  },
  {
   "cell_type": "code",
   "execution_count": 6,
   "metadata": {},
   "outputs": [],
   "source": [
    "sex_mapping ={\"male\": 0 , \"female\": 1}\n",
    "test['Sex'] = test['Sex'].map(sex_mapping)"
   ]
  },
  {
   "cell_type": "code",
   "execution_count": 7,
   "metadata": {},
   "outputs": [],
   "source": [
    "test[\"Age\"].fillna(test.groupby(\"Title\")[\"Age\"].transform(\"median\"), inplace = True)\n",
    "test.loc[test[\"Age\"] <= 16 , \"Age\"] = 0\n",
    "test.loc[(test[\"Age\"]) > 16 & (test[\"Age\"] <= 26)  , \"Age\"] = 1\n",
    "test.loc[(test[\"Age\"]) > 26 & (test[\"Age\"] <= 36) , \"Age\"] = 2\n",
    "test.loc[(test[\"Age\"]) > 36 & (test[\"Age\"] <= 62) , \"Age\"] = 3\n",
    "test.loc[test[\"Age\"] > 62 , \"Age\"] = 4"
   ]
  },
  {
   "cell_type": "code",
   "execution_count": 8,
   "metadata": {},
   "outputs": [],
   "source": [
    "test[\"Embarked\"] = test[\"Embarked\"].fillna(\"S\")\n",
    "test.loc[test[\"Embarked\"] == \"S\" , \"Embarked\"] = 0\n",
    "test.loc[test[\"Embarked\"] == \"C\" , \"Embarked\"] = 1\n",
    "test.loc[test[\"Embarked\"] == \"Q\",  \"Embarked\"] = 2"
   ]
  },
  {
   "cell_type": "code",
   "execution_count": 9,
   "metadata": {},
   "outputs": [],
   "source": [
    "test[\"Fare\"].fillna(test.groupby(\"Pclass\")[\"Fare\"].transform(\"median\"), inplace = True)\n",
    "test.loc[test[\"Fare\"] <= 17 , \"Fare\"] = 0\n",
    "test.loc[(test[\"Fare\"] > 17) & (test[\"Fare\"] <= 30) , \"Fare\"] = 1\n",
    "test.loc[(test[\"Fare\"] > 30) & (test[\"Fare\"] <= 100) , \"Fare\"] = 2\n",
    "test.loc[test[\"Fare\"] > 100 , \"Fare\"] = 3"
   ]
  },
  {
   "cell_type": "code",
   "execution_count": 10,
   "metadata": {},
   "outputs": [],
   "source": [
    "test[\"Cabin\"] = test[\"Cabin\"].str[:1]\n",
    "cabin_mapping = {\"A\" : 0 , \"B\" : 0.4 , \"C\" : 0.8 , \"D\" : 1.2 , \"E\" : 1.6 , \"F\" : 2 , \"G\" : 2.4 , \"T\" : 2.8 }\n",
    "test[\"Cabin\"] = test[\"Cabin\"].map(cabin_mapping)\n",
    "test[\"Cabin\"].fillna(test.groupby(\"Pclass\")[\"Cabin\"].transform(\"median\") , inplace = True)"
   ]
  },
  {
   "cell_type": "code",
   "execution_count": 11,
   "metadata": {},
   "outputs": [],
   "source": [
    "test[\"FamilySize\"] = test[\"SibSp\"] + test[\"Parch\"] + 1\n",
    "family_mapping = { 1 : 0 , 2 : 0.4 , 3 : 0.8 , 4 : 1.2 , 5 : 1.6 , 6 : 2 , 7 : 2.4 , 8 : 2.8 , 9 : 3.2 , 10 : 3.6 , 11 : 4 }\n",
    "test[\"FamilySize\"] = test[\"FamilySize\"].map(family_mapping)"
   ]
  },
  {
   "cell_type": "code",
   "execution_count": 12,
   "metadata": {},
   "outputs": [],
   "source": [
    "test = test.drop( [\"Ticket\" , \"SibSp\" , \"Parch\"] , axis = 1 )"
   ]
  },
  {
   "cell_type": "code",
   "execution_count": 13,
   "metadata": {},
   "outputs": [
    {
     "data": {
      "text/plain": [
       "Survived      0\n",
       "Pclass        0\n",
       "Sex           0\n",
       "Age           0\n",
       "Fare          0\n",
       "Cabin         0\n",
       "Embarked      0\n",
       "Title         0\n",
       "FamilySize    0\n",
       "dtype: int64"
      ]
     },
     "execution_count": 13,
     "metadata": {},
     "output_type": "execute_result"
    }
   ],
   "source": [
    "train.isnull().sum()"
   ]
  },
  {
   "cell_type": "code",
   "execution_count": 14,
   "metadata": {},
   "outputs": [
    {
     "data": {
      "text/plain": [
       "Survived      0\n",
       "Pclass        0\n",
       "Sex           0\n",
       "Age           0\n",
       "Fare          0\n",
       "Cabin         0\n",
       "Embarked      0\n",
       "Title         0\n",
       "FamilySize    0\n",
       "dtype: int64"
      ]
     },
     "execution_count": 14,
     "metadata": {},
     "output_type": "execute_result"
    }
   ],
   "source": [
    "train.isnull().sum()"
   ]
  },
  {
   "cell_type": "code",
   "execution_count": 15,
   "metadata": {},
   "outputs": [
    {
     "name": "stdout",
     "output_type": "stream",
     "text": [
      "[0.85555556 0.80898876 0.82022472 0.80898876 0.82022472 0.82022472\n",
      " 0.84269663 0.84269663 0.83146067 0.86516854]\n"
     ]
    },
    {
     "name": "stderr",
     "output_type": "stream",
     "text": [
      "C:\\Users\\Seif\\Anaconda3\\lib\\site-packages\\sklearn\\svm\\base.py:193: FutureWarning: The default value of gamma will change from 'auto' to 'scale' in version 0.22 to account better for unscaled features. Set gamma explicitly to 'auto' or 'scale' to avoid this warning.\n",
      "  \"avoid this warning.\", FutureWarning)\n",
      "C:\\Users\\Seif\\Anaconda3\\lib\\site-packages\\sklearn\\svm\\base.py:193: FutureWarning: The default value of gamma will change from 'auto' to 'scale' in version 0.22 to account better for unscaled features. Set gamma explicitly to 'auto' or 'scale' to avoid this warning.\n",
      "  \"avoid this warning.\", FutureWarning)\n",
      "C:\\Users\\Seif\\Anaconda3\\lib\\site-packages\\sklearn\\svm\\base.py:193: FutureWarning: The default value of gamma will change from 'auto' to 'scale' in version 0.22 to account better for unscaled features. Set gamma explicitly to 'auto' or 'scale' to avoid this warning.\n",
      "  \"avoid this warning.\", FutureWarning)\n",
      "C:\\Users\\Seif\\Anaconda3\\lib\\site-packages\\sklearn\\svm\\base.py:193: FutureWarning: The default value of gamma will change from 'auto' to 'scale' in version 0.22 to account better for unscaled features. Set gamma explicitly to 'auto' or 'scale' to avoid this warning.\n",
      "  \"avoid this warning.\", FutureWarning)\n",
      "C:\\Users\\Seif\\Anaconda3\\lib\\site-packages\\sklearn\\svm\\base.py:193: FutureWarning: The default value of gamma will change from 'auto' to 'scale' in version 0.22 to account better for unscaled features. Set gamma explicitly to 'auto' or 'scale' to avoid this warning.\n",
      "  \"avoid this warning.\", FutureWarning)\n",
      "C:\\Users\\Seif\\Anaconda3\\lib\\site-packages\\sklearn\\svm\\base.py:193: FutureWarning: The default value of gamma will change from 'auto' to 'scale' in version 0.22 to account better for unscaled features. Set gamma explicitly to 'auto' or 'scale' to avoid this warning.\n",
      "  \"avoid this warning.\", FutureWarning)\n",
      "C:\\Users\\Seif\\Anaconda3\\lib\\site-packages\\sklearn\\svm\\base.py:193: FutureWarning: The default value of gamma will change from 'auto' to 'scale' in version 0.22 to account better for unscaled features. Set gamma explicitly to 'auto' or 'scale' to avoid this warning.\n",
      "  \"avoid this warning.\", FutureWarning)\n",
      "C:\\Users\\Seif\\Anaconda3\\lib\\site-packages\\sklearn\\svm\\base.py:193: FutureWarning: The default value of gamma will change from 'auto' to 'scale' in version 0.22 to account better for unscaled features. Set gamma explicitly to 'auto' or 'scale' to avoid this warning.\n",
      "  \"avoid this warning.\", FutureWarning)\n",
      "C:\\Users\\Seif\\Anaconda3\\lib\\site-packages\\sklearn\\svm\\base.py:193: FutureWarning: The default value of gamma will change from 'auto' to 'scale' in version 0.22 to account better for unscaled features. Set gamma explicitly to 'auto' or 'scale' to avoid this warning.\n",
      "  \"avoid this warning.\", FutureWarning)\n",
      "C:\\Users\\Seif\\Anaconda3\\lib\\site-packages\\sklearn\\svm\\base.py:193: FutureWarning: The default value of gamma will change from 'auto' to 'scale' in version 0.22 to account better for unscaled features. Set gamma explicitly to 'auto' or 'scale' to avoid this warning.\n",
      "  \"avoid this warning.\", FutureWarning)\n"
     ]
    }
   ],
   "source": [
    "clf = SVC()\n",
    "scoring = 'accuracy'\n",
    "score = cross_val_score(clf , train_data , target , cv = k_fold , n_jobs = 1 , scoring = scoring)\n",
    "print(score)"
   ]
  },
  {
   "cell_type": "code",
   "execution_count": 16,
   "metadata": {},
   "outputs": [
    {
     "name": "stderr",
     "output_type": "stream",
     "text": [
      "C:\\Users\\Seif\\Anaconda3\\lib\\site-packages\\sklearn\\svm\\base.py:193: FutureWarning: The default value of gamma will change from 'auto' to 'scale' in version 0.22 to account better for unscaled features. Set gamma explicitly to 'auto' or 'scale' to avoid this warning.\n",
      "  \"avoid this warning.\", FutureWarning)\n"
     ]
    }
   ],
   "source": [
    "clf = SVC()\n",
    "clf.fit(train_data , target)\n",
    "test_data = test.drop(\"PassengerId\" , axis = 1).copy()\n",
    "prediction = clf.predict(test_data)"
   ]
  },
  {
   "cell_type": "code",
   "execution_count": 17,
   "metadata": {},
   "outputs": [],
   "source": [
    "submission = pd.DataFrame({\"PassengerId\" : test[\"PassengerId\"] , \"Survived\" : prediction})\n",
    "submission.to_csv('submission.csv',index = False)"
   ]
  },
  {
   "cell_type": "code",
   "execution_count": 18,
   "metadata": {},
   "outputs": [
    {
     "data": {
      "text/html": [
       "<div>\n",
       "<style scoped>\n",
       "    .dataframe tbody tr th:only-of-type {\n",
       "        vertical-align: middle;\n",
       "    }\n",
       "\n",
       "    .dataframe tbody tr th {\n",
       "        vertical-align: top;\n",
       "    }\n",
       "\n",
       "    .dataframe thead th {\n",
       "        text-align: right;\n",
       "    }\n",
       "</style>\n",
       "<table border=\"1\" class=\"dataframe\">\n",
       "  <thead>\n",
       "    <tr style=\"text-align: right;\">\n",
       "      <th></th>\n",
       "      <th>PassengerId</th>\n",
       "      <th>Survived</th>\n",
       "    </tr>\n",
       "  </thead>\n",
       "  <tbody>\n",
       "    <tr>\n",
       "      <th>0</th>\n",
       "      <td>892</td>\n",
       "      <td>0</td>\n",
       "    </tr>\n",
       "    <tr>\n",
       "      <th>1</th>\n",
       "      <td>893</td>\n",
       "      <td>1</td>\n",
       "    </tr>\n",
       "    <tr>\n",
       "      <th>2</th>\n",
       "      <td>894</td>\n",
       "      <td>0</td>\n",
       "    </tr>\n",
       "    <tr>\n",
       "      <th>3</th>\n",
       "      <td>895</td>\n",
       "      <td>0</td>\n",
       "    </tr>\n",
       "    <tr>\n",
       "      <th>4</th>\n",
       "      <td>896</td>\n",
       "      <td>1</td>\n",
       "    </tr>\n",
       "  </tbody>\n",
       "</table>\n",
       "</div>"
      ],
      "text/plain": [
       "   PassengerId  Survived\n",
       "0          892         0\n",
       "1          893         1\n",
       "2          894         0\n",
       "3          895         0\n",
       "4          896         1"
      ]
     },
     "execution_count": 18,
     "metadata": {},
     "output_type": "execute_result"
    }
   ],
   "source": [
    "submission = pd.read_csv('submission.csv')\n",
    "submission.head()"
   ]
  },
  {
   "cell_type": "code",
   "execution_count": null,
   "metadata": {},
   "outputs": [],
   "source": []
  }
 ],
 "metadata": {
  "kernelspec": {
   "display_name": "Python 3",
   "language": "python",
   "name": "python3"
  },
  "language_info": {
   "codemirror_mode": {
    "name": "ipython",
    "version": 3
   },
   "file_extension": ".py",
   "mimetype": "text/x-python",
   "name": "python",
   "nbconvert_exporter": "python",
   "pygments_lexer": "ipython3",
   "version": "3.7.3"
  }
 },
 "nbformat": 4,
 "nbformat_minor": 2
}
